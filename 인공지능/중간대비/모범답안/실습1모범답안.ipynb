{
  "nbformat": 4,
  "nbformat_minor": 0,
  "metadata": {
    "colab": {
      "provenance": [],
      "authorship_tag": "ABX9TyOjZIv36X3+f9dS9RoVw5bt",
      "include_colab_link": true
    },
    "kernelspec": {
      "name": "python3",
      "display_name": "Python 3"
    },
    "language_info": {
      "name": "python"
    }
  },
  "cells": [
    {
      "cell_type": "markdown",
      "metadata": {
        "id": "view-in-github",
        "colab_type": "text"
      },
      "source": [
        "<a href=\"https://colab.research.google.com/github/realcommang/BigDataProcess/blob/main/%EC%9D%B8%EA%B3%B5%EC%A7%80%EB%8A%A5/%EC%A4%91%EA%B0%84%EB%8C%80%EB%B9%84/%EB%AA%A8%EB%B2%94%EB%8B%B5%EC%95%88/%EC%8B%A4%EC%8A%B51%EB%AA%A8%EB%B2%94%EB%8B%B5%EC%95%88.ipynb\" target=\"_parent\"><img src=\"https://colab.research.google.com/assets/colab-badge.svg\" alt=\"Open In Colab\"/></a>"
      ]
    },
    {
      "cell_type": "code",
      "execution_count": 3,
      "metadata": {
        "colab": {
          "base_uri": "https://localhost:8080/"
        },
        "id": "AKx5F_QIQGLB",
        "outputId": "6d04a893-50f4-49d7-aa49-11ed28c829c3"
      },
      "outputs": [
        {
          "output_type": "stream",
          "name": "stdout",
          "text": [
            "(2, 8)\n",
            "2\n",
            "8\n",
            "[[45 48 65 68 68 10 84 22]\n",
            " [37 88 71 89 89 13 59 66]]\n",
            "All Max: 89\n",
            "SubMax 0: 84\n",
            "SubMax 1: 89\n",
            "(2, 2, 4)\n",
            "[[[45 48 65 68]\n",
            "  [68 10 84 22]]\n",
            "\n",
            " [[37 88 71 89]\n",
            "  [89 13 59 66]]]\n",
            "[[[65 68 45 48]\n",
            "  [84 22 68 10]]\n",
            "\n",
            " [[71 89 37 88]\n",
            "  [59 66 89 13]]]\n"
          ]
        }
      ],
      "source": [
        "import numpy as np\n",
        "\n",
        "#난수 발생기의 시드를 0으로 설정하여 재현성을 보장\n",
        "np.random.seed(0)\n",
        "\n",
        "#1에서 99 사이의 난수로 2*8 배열을 생성한다\n",
        "A = np.random.randint(1, 99, size=(2,8))\n",
        "A = np.array(A)\n",
        "\n",
        "#배열의 모양(shape)과 내용을 출력한다\n",
        "print(A.shape)\n",
        "print(A.shape[0]) #2\n",
        "print(A.shape[1]) #8\n",
        "print(A)\n",
        "\n",
        "#각 행에서 가장 큰 값을 찾아 출력\n",
        "allMax = 0\n",
        "subMax = [0,0]\n",
        "for i in range(A.shape[0]):\n",
        "  subMax[i] = 0\n",
        "  for j in range(A.shape[1]):\n",
        "    if subMax[i] < A[i][j]:\n",
        "      subMax[i] = A[i][j]\n",
        "\n",
        "  if allMax < subMax[i]:\n",
        "    allMax = subMax[i]\n",
        "\n",
        "print(\"All Max: \" + str(allMax))\n",
        "print(\"SubMax 0: \" + str(subMax[0]))\n",
        "print(\"SubMax 1: \" + str(subMax[1]))\n",
        "\n",
        "#배열을 2*2*4 모양으로 재구조화하고 모양과 내용 출력\n",
        "B = A.reshape(2,2,4)\n",
        "print(B.shape)\n",
        "print(B)\n",
        "\n",
        "C = B.copy()\n",
        "#B 배열의 각 차원에서 처음 두 열을 슬라이싱하여 tmp1에 할당\n",
        "tmp1 = B[:, :, :2]\n",
        "#B 배열의 각 차원에서 세 번째 열부터 끝까지 슬라이싱하여 tmp2에 할당\n",
        "tmp2 = B[:, :, 2:]\n",
        "\n",
        "#C 배열의 각 차원에서 세 번째 열부터 끝까지를 tmp1의 값으로 대체\n",
        "C[:, :, 2:] = tmp1\n",
        "#C 배열의 각 차원에서 처음 두 열을 tmp2의 값으로 대체\n",
        "C[:, :, :2] = tmp2\n",
        "print(C)"
      ]
    },
    {
      "cell_type": "code",
      "source": [],
      "metadata": {
        "id": "uqwgcEP0Qjj2"
      },
      "execution_count": null,
      "outputs": []
    }
  ]
}